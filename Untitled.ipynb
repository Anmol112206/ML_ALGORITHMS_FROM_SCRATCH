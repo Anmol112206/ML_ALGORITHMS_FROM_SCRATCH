{
 "cells": [
  {
   "cell_type": "code",
   "execution_count": null,
   "id": "753ac270-4024-4112-85ab-41451e24894e",
   "metadata": {
    "vscode": {
     "languageId": "python"
    }
   },
   "outputs": [],
   "source": [
    "print(\"anmol\")"
   ]
  },
  {
   "cell_type": "code",
   "execution_count": null,
   "id": "c679ada3",
   "metadata": {
    "vscode": {
     "languageId": "python"
    }
   },
   "outputs": [],
   "source": []
  }
 ],
 "metadata": {
  "kernelspec": {
   "display_name": "",
   "name": ""
  },
  "language_info": {
   "name": ""
  }
 },
 "nbformat": 4,
 "nbformat_minor": 5
}
